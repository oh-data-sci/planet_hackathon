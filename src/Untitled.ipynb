#!/bin/bash
# from here: https://developers.planet.com/docs/data/api-mechanics/
# free accounts can only download assets from items located in California
curl -u {api-key}: https://api.planet.com/data/v1/



# When sending a POST request to the Planet API, the server will accept a maximum payload size of 1 megabyte.

# HTTP response codes of 4xx suggest a bad request. If you receive a 4xx response, we recommend reviewing the API reference docs for more context to help you troubleshoot. 5xx errors suggest a problem on Planet's end, so if you receive a 5xx error, please contact support.