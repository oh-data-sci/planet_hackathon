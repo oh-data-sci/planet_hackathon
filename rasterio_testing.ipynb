{
 "cells": [
  {
   "cell_type": "markdown",
   "metadata": {},
   "source": [
    "# introduction to rasterio\n",
    "see instructions [here](https://rasterio.readthedocs.io/en/latest/quickstart.html#id2)\n"
   ]
  },
  {
   "cell_type": "code",
   "execution_count": 4,
   "metadata": {},
   "outputs": [],
   "source": [
    "import rasterio"
   ]
  },
  {
   "cell_type": "code",
   "execution_count": 5,
   "metadata": {},
   "outputs": [
    {
     "name": "stdout",
     "output_type": "stream",
     "text": [
      "20200510_045002_24_2271_3B_AnalyticMS.tif\n",
      "20200510_045004_44_2271_3B_AnalyticMS.tif\n",
      "20200520_051901_1032_3B_AnalyticMS.tif\n",
      "20200520_051902_1032_3B_AnalyticMS.tif\n"
     ]
    }
   ],
   "source": [
    "!ls data/downloaded"
   ]
  },
  {
   "cell_type": "code",
   "execution_count": 6,
   "metadata": {},
   "outputs": [
    {
     "name": "stdout",
     "output_type": "stream",
     "text": [
      "name = data/downloaded/20200520_051901_1032_3B_AnalyticMS.tif\n",
      "mode = r\n",
      "closed? False\n",
      "numfiles: 4\n",
      "width: 8986\n",
      "width: 4447\n",
      "bounds BoundingBox(left=390192.0, bottom=2078097.0, right=417150.0, top=2091438.0)\n",
      "transform | 3.00, 0.00, 390192.00|\n",
      "| 0.00,-3.00, 2091438.00|\n",
      "| 0.00, 0.00, 1.00|\n",
      "upper left corner (390192.0, 2091438.0)\n",
      "lower right corner (417150.0, 2078097.0)\n",
      "coordinate system EPSG:32643\n",
      "indexes: (1, 2, 3, 4)\n"
     ]
    }
   ],
   "source": [
    "dataset = rasterio.open('data/downloaded/20200520_051901_1032_3B_AnalyticMS.tif')\n",
    "print('name =', dataset.name)\n",
    "print('mode =', dataset.mode)\n",
    "print('closed?', dataset.closed)\n",
    "print('numfiles:', dataset.count)\n",
    "print('width:', dataset.width)\n",
    "print('width:', dataset.height)\n",
    "print('bounds', dataset.bounds)\n",
    "print('transform', dataset.transform)\n",
    "print('upper left corner', dataset.transform * (0, 0))\n",
    "print('lower right corner', dataset.transform * (dataset.width, dataset.height))\n",
    "print('coordinate system', dataset.crs)\n",
    "print('indexes:', dataset.indexes)"
   ]
  },
  {
   "cell_type": "code",
   "execution_count": 7,
   "metadata": {},
   "outputs": [
    {
     "data": {
      "text/plain": [
       "{1: 'uint16', 2: 'uint16', 3: 'uint16', 4: 'uint16'}"
      ]
     },
     "execution_count": 7,
     "metadata": {},
     "output_type": "execute_result"
    }
   ],
   "source": [
    "{i: dtype for i, dtype in zip(dataset.indexes, dataset.dtypes)}"
   ]
  },
  {
   "cell_type": "code",
   "execution_count": 9,
   "metadata": {},
   "outputs": [
    {
     "name": "stdout",
     "output_type": "stream",
     "text": [
      "center point 6465\n",
      "value for the pixel 10 kilometers east and 5 kilometers south of the dataset’s upper left corner= 1666 3333 7371\n"
     ]
    },
    {
     "data": {
      "text/plain": [
       "(403672.5, 2084767.5)"
      ]
     },
     "execution_count": 9,
     "metadata": {},
     "output_type": "execute_result"
    }
   ],
   "source": [
    "band1 = dataset.read(1)\n",
    "print('center point', band1[dataset.height // 2, dataset.width // 2])\n",
    "x, y = (dataset.bounds.left + 10000, dataset.bounds.top - 5000)\n",
    "row, col = dataset.index(x, y)\n",
    "print('value for the pixel 10 kilometers east and 5 kilometers south of the dataset’s upper left corner=', row, col, band1[row, col])\n",
    "dataset.xy(dataset.height // 2, dataset.width // 2)"
   ]
  },
  {
   "cell_type": "code",
   "execution_count": null,
   "metadata": {},
   "outputs": [],
   "source": [
    "# creating data\n",
    "import numpy as np\n",
    "x = np.linspace(-4.0, 4.0, 240)\n",
    "y = np.linspace(-3.0, 3.0, 180)\n",
    "X, Y = np.meshgrid(x, y)\n",
    "Z1 = np.exp(-2 * np.log(2) * ((X - 0.5) ** 2 + (Y - 0.5) ** 2) / 1 ** 2)\n",
    "Z2 = np.exp(-3 * np.log(2) * ((X + 0.5) ** 2 + (Y + 0.5) ** 2) / 2.5 ** 2)\n",
    "Z = 10.0 * (Z2 - Z1)\n",
    "from rasterio.transform import Affine\n",
    "res = (x[-1] - x[0]) / 240.0\n",
    "transform = Affine.translation(x[0] - res / 2, y[0] - res / 2) * Affine.scale(res, res)\n",
    "\n",
    "new_dataset = rasterio.open(\n",
    "    'data/img/new.tif',\n",
    "    'w',\n",
    "    driver='GTiff',\n",
    "    height=Z.shape[0],\n",
    "    width=Z.shape[1],\n",
    "    count=1,\n",
    "    dtype=Z.dtype,\n",
    "    crs='+proj=latlong',\n",
    "    transform=transform,\n",
    ")\n",
    "new_dataset.write(Z, 1)\n",
    "new_dataset.close()\n"
   ]
  },
  {
   "cell_type": "code",
   "execution_count": null,
   "metadata": {},
   "outputs": [],
   "source": [
    "# also possible\n",
    "with rasterio.open(\n",
    "    'data/img/new2.tif',\n",
    "    'w',\n",
    "    driver='GTiff',\n",
    "    height=Z.shape[0],\n",
    "    width=Z.shape[1],\n",
    "    count=1,\n",
    "    dtype=Z.dtype,\n",
    "    crs='+proj=latlong',\n",
    "    transform=transform,\n",
    ") as dst:\n",
    "    dst.write(Z, 1)\n"
   ]
  },
  {
   "cell_type": "code",
   "execution_count": null,
   "metadata": {},
   "outputs": [],
   "source": [
    "import rasterio\n",
    "src = rasterio.open('tests/data/RGB.byte.tif')\n",
    "src.name\n",
    "array = src.read(1)\n",
    "array.shape\n",
    "import matplotlib.pyplot as plt\n",
    "plt.imshow(array, cmap='pink')\n",
    "pyplot.show()"
   ]
  },
  {
   "cell_type": "code",
   "execution_count": null,
   "metadata": {},
   "outputs": [],
   "source": [
    "array = src.read()\n",
    "array.shape"
   ]
  },
  {
   "cell_type": "code",
   "execution_count": null,
   "metadata": {},
   "outputs": [],
   "source": [
    "for i, dtype, nodataval in zip(src.indexes, src.dtypes, src.nodatavals):\n",
    "    print(i, dtype, nodataval)\n"
   ]
  },
  {
   "cell_type": "code",
   "execution_count": null,
   "metadata": {},
   "outputs": [],
   "source": [
    "src.close()\n"
   ]
  },
  {
   "cell_type": "code",
   "execution_count": 2,
   "metadata": {},
   "outputs": [],
   "source": [
    "# Stockton, CA bounding box (created via geojson.io) \n",
    "geojson_geometry = {\n",
    "  \"type\": \"Polygon\",\n",
    "  \"coordinates\": [\n",
    "    [ \n",
    "      [-121.59290313720705, 37.93444993515032],\n",
    "      [-121.27017974853516, 37.93444993515032],\n",
    "      [-121.27017974853516, 38.065932950547484],\n",
    "      [-121.59290313720705, 38.065932950547484],\n",
    "      [-121.59290313720705, 37.93444993515032]\n",
    "    ]\n",
    "  ]\n",
    "}\n"
   ]
  },
  {
   "cell_type": "markdown",
   "metadata": {},
   "source": [
    "# Goes Great With GeoPandas\n",
    "geojsonio.py integrates nicely with GeoPandas to display data in a GeoDataFrame.\n",
    "Say you have a file containing the borders of all states called states.geojson. Each GeoJSON record has a property called 'Name'. Quickly display all the states whose names start with 'M'"
   ]
  },
  {
   "cell_type": "code",
   "execution_count": null,
   "metadata": {},
   "outputs": [],
   "source": []
  },
  {
   "cell_type": "code",
   "execution_count": null,
   "metadata": {},
   "outputs": [],
   "source": []
  },
  {
   "cell_type": "code",
   "execution_count": null,
   "metadata": {},
   "outputs": [],
   "source": []
  },
  {
   "cell_type": "code",
   "execution_count": null,
   "metadata": {},
   "outputs": [],
   "source": []
  },
  {
   "cell_type": "code",
   "execution_count": null,
   "metadata": {},
   "outputs": [],
   "source": []
  }
 ],
 "metadata": {
  "kernelspec": {
   "display_name": "Python 3",
   "language": "python",
   "name": "python3"
  },
  "language_info": {
   "codemirror_mode": {
    "name": "ipython",
    "version": 3
   },
   "file_extension": ".py",
   "mimetype": "text/x-python",
   "name": "python",
   "nbconvert_exporter": "python",
   "pygments_lexer": "ipython3",
   "version": "3.8.5"
  }
 },
 "nbformat": 4,
 "nbformat_minor": 4
}
